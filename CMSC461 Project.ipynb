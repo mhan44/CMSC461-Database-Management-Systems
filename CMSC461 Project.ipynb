{
 "cells": [
  {
   "cell_type": "code",
   "execution_count": 1,
   "id": "84d46392-54fe-4407-86f6-d81e70c0785d",
   "metadata": {},
   "outputs": [
    {
     "name": "stdout",
     "output_type": "stream",
     "text": [
      "1. Open mySQL workbench, local instance, run createAll.sql and loadAll.sql\n",
      "2. Login as root and establish connection with client\n"
     ]
    },
    {
     "name": "stdin",
     "output_type": "stream",
     "text": [
      "Enter username ········\n",
      "Enter password ········\n"
     ]
    },
    {
     "name": "stdout",
     "output_type": "stream",
     "text": [
      "3. Run activities and queries \n"
     ]
    }
   ],
   "source": [
    "import mysql.connector\n",
    "import getpass\n",
    "\n",
    "print(\"1. Open mySQL workbench, local instance, run createAll.sql and loadAll.sql\")\n",
    "print(\"2. Login as root and establish connection with client\")\n",
    "\n",
    "db_user = getpass.getpass('Enter username') #root \n",
    "db_password = getpass.getpass('Enter password') #taishiseiga9\n",
    "config = {\n",
    "   'user': db_user,\n",
    "   'password': db_password,\n",
    "   'host': 'localhost',\n",
    "   'port': 3306,\n",
    "   'database': 'wonderland',\n",
    "   'raise_on_warnings': True                    \n",
    "}\n",
    "db_connection = mysql.connector.connect(**config)\n",
    "\n",
    "print(\"3. Run activities and queries \")"
   ]
  },
  {
   "cell_type": "code",
   "execution_count": 7,
   "id": "07132e88-1ed9-4cc6-b1d2-59ff0eac9e56",
   "metadata": {},
   "outputs": [
    {
     "name": "stdout",
     "output_type": "stream",
     "text": [
      "A.1 Clerk Creating a New Ballot\n",
      "4. Example Ballot, copy into input: B100, ABSTAIN, 2024-11-01 00:00:00, 2024-11-04 23:59:59\n"
     ]
    },
    {
     "name": "stdin",
     "output_type": "stream",
     "text": [
      "Enter the Ballot ID:  B100\n",
      "Enter option:  ABSTAIN\n",
      "Enter the start time (YYYY-MM-DD HH:MM:SS):  2024-11-01 00:00:00\n",
      "Enter the end time (YYYY-MM-DD HH:MM:SS):  2024-11-04 23:59:59\n"
     ]
    },
    {
     "name": "stdout",
     "output_type": "stream",
     "text": [
      "Ballot B100 created successfully!\n"
     ]
    }
   ],
   "source": [
    "print(\"A.1 Clerk Creating a New Ballot\")\n",
    "def create_new_ballot(db_connection):\n",
    "    cursor = db_connection.cursor()\n",
    "    ballot_id = input(\"Enter the Ballot ID: \")\n",
    "    option = input(\"Enter option: \")\n",
    "    availability_start = input(\"Enter the start time (YYYY-MM-DD HH:MM:SS): \")\n",
    "    availability_end = input(\"Enter the end time (YYYY-MM-DD HH:MM:SS): \")\n",
    "    for option in ['YES', 'NO', 'ABSTAIN']:\n",
    "        query = f\"\"\"\n",
    "        INSERT INTO Ballots (ballot_id, question_text, availability_time_start, availability_time_end)\n",
    "        VALUES ('{ballot_id}', '{option}', '{availability_start}', '{availability_end}');\n",
    "        \"\"\"\n",
    "        cursor.execute(query)\n",
    "    db_connection.commit()\n",
    "    print(f\"Ballot {ballot_id} created successfully!\")\n",
    "\n",
    "print(\"4. Example Ballot, copy into input: B100, ABSTAIN, 2024-11-01 00:00:00, 2024-11-04 23:59:59\")\n",
    "create_new_ballot(db_connection)"
   ]
  },
  {
   "cell_type": "code",
   "execution_count": 25,
   "id": "94ee8602-30f8-4bd1-b9a5-fa33fa8a6c51",
   "metadata": {},
   "outputs": [
    {
     "name": "stdout",
     "output_type": "stream",
     "text": [
      "A.2 Folk Registering to Vote\n",
      "5. 0000000000000001, VC01, 2024-11-01 12:00:00\n"
     ]
    },
    {
     "name": "stdin",
     "output_type": "stream",
     "text": [
      "Enter your Person ID:  0000000000000001\n",
      "Enter the acronym of the voting center:  VC01\n",
      "Enter the vote time (YYYY-MM-DD HH:MM:SS):  2024-11-01 12:00:00\n"
     ]
    },
    {
     "name": "stdout",
     "output_type": "stream",
     "text": [
      "Registration failed: 1644 (45000): Registration date to vote in VotingRegistry does not fall within the operating periods of a VotingCenter\n"
     ]
    }
   ],
   "source": [
    "from mysql.connector import Error \n",
    "print(\"A.2 Folk Registering to Vote\")\n",
    "def register_to_vote(connection):\n",
    "    cursor = connection.cursor()\n",
    "    person_id = input(\"Enter your Person ID: \")\n",
    "    voting_center = input(\"Enter the acronym of the voting center: \")\n",
    "    vote_time = input(\"Enter the vote time (YYYY-MM-DD HH:MM:SS): \")\n",
    "    query = f\"\"\"\n",
    "    INSERT INTO VotingRegistry (registry_id, person_id, acronym, vote_time)\n",
    "    VALUES ('R100', '{person_id}', '{voting_center}', '{vote_time}');\n",
    "    \"\"\"\n",
    "    try:\n",
    "        cursor.execute(query)\n",
    "        connection.commit()\n",
    "        print(\"Successfully registered to vote!\")\n",
    "    except Error as e:\n",
    "        print(f\"Registration failed: {e}\")\n",
    "\n",
    "print(\"5. 0000000000000001, VC01, 2024-11-01 12:00:00\")\n",
    "register_to_vote(db_connection)"
   ]
  },
  {
   "cell_type": "code",
   "execution_count": 19,
   "id": "7c731129-1151-4244-bfaa-8729144f0ceb",
   "metadata": {},
   "outputs": [
    {
     "name": "stdout",
     "output_type": "stream",
     "text": [
      "A.3 Clerk Modifying the Availability Period\n",
      "6. B001, 2024-11-01 00:00:01, 2024-11-04 23:59:59\n"
     ]
    },
    {
     "name": "stdin",
     "output_type": "stream",
     "text": [
      "Enter the Ballot ID to modify:  B001\n",
      "Enter the new start time (YYYY-MM-DD HH:MM:SS):  2024-11-01 00:00:01\n",
      "Enter the new end time (YYYY-MM-DD HH:MM:SS):  2024-11-04 23:59:59\n"
     ]
    },
    {
     "name": "stdout",
     "output_type": "stream",
     "text": [
      "Ballot B001 availability updated successfully!\n"
     ]
    }
   ],
   "source": [
    "print(\"A.3 Clerk Modifying the Availability Period\")\n",
    "def modify_ballot_period(connection):\n",
    "    cursor = connection.cursor()\n",
    "    ballot_id = input(\"Enter the Ballot ID to modify: \")\n",
    "    new_start = input(\"Enter the new start time (YYYY-MM-DD HH:MM:SS): \")\n",
    "    new_end = input(\"Enter the new end time (YYYY-MM-DD HH:MM:SS): \")\n",
    "    query = f\"\"\"\n",
    "    UPDATE Ballots\n",
    "    SET availability_time_start = '{new_start}', availability_time_end = '{new_end}'\n",
    "    WHERE ballot_id = '{ballot_id}';\n",
    "    \"\"\"\n",
    "    try:\n",
    "        cursor.execute(query)\n",
    "        connection.commit()\n",
    "        print(f\"Ballot {ballot_id} availability updated successfully!\")\n",
    "    except Error as e:\n",
    "        print(f\"Failed to modify ballot period: {e}\")\n",
    "\n",
    "print(\"6. B001, 2024-11-01 00:00:01, 2024-11-04 23:59:59\")\n",
    "modify_ballot_period(db_connection)"
   ]
  },
  {
   "cell_type": "code",
   "execution_count": 29,
   "id": "ccfbf23d-e002-4274-aaf9-68eee2eed64e",
   "metadata": {},
   "outputs": [
    {
     "name": "stdout",
     "output_type": "stream",
     "text": [
      "A.4 Voter Casting a Ballot\n",
      "7. 0000000000000001, B001, ABSTAIN, 2024-11-01 09:00:01\n"
     ]
    },
    {
     "name": "stdin",
     "output_type": "stream",
     "text": [
      "Enter your Person ID:  0000000000000001\n",
      "Enter the Ballot ID:  B001\n",
      "Enter your vote (YES, NO, ABSTAIN):  ABSTAIN\n",
      "Enter the vote time (YYYY-MM-DD HH:MM:SS):  2024-11-01 09:00:01\n"
     ]
    },
    {
     "name": "stdout",
     "output_type": "stream",
     "text": [
      "Failed to cast vote: Invalid registration: No valid registration found for this person and vote time.\n"
     ]
    }
   ],
   "source": [
    "print(\"A.4 Voter Casting a Ballot\")\n",
    "from mysql.connector import Error\n",
    "\n",
    "def cast_vote(connection):\n",
    "\n",
    "    # Get user input\n",
    "    person_id = input(\"Enter your Person ID: \")\n",
    "    ballot_id = input(\"Enter the Ballot ID: \")\n",
    "    vote_choice = input(\"Enter your vote (YES, NO, ABSTAIN): \")\n",
    "    vote_time = input(\"Enter the vote time (YYYY-MM-DD HH:MM:SS): \")\n",
    "\n",
    "    try:\n",
    "        # Start a transaction\n",
    "        connection.start_transaction()\n",
    "        cursor = connection.cursor()\n",
    "\n",
    "        # Step 1: Validate registration\n",
    "        query_validate = \"\"\"\n",
    "        SELECT registry_id \n",
    "        FROM VotingRegistry\n",
    "        WHERE person_id = %s \n",
    "          AND vote_time <= %s;\n",
    "        \"\"\"\n",
    "        cursor.execute(query_validate, (person_id, vote_time))\n",
    "        registration = cursor.fetchone()\n",
    "\n",
    "        if not registration:\n",
    "            raise Exception(\"Invalid registration: No valid registration found for this person and vote time.\")\n",
    "\n",
    "        registry_id = registration[0]\n",
    "\n",
    "        # Step 2: Check for duplicate vote\n",
    "        query_duplicate_check = \"\"\"\n",
    "        SELECT COUNT(*)\n",
    "        FROM CastedVote\n",
    "        WHERE registry_id = %s\n",
    "          AND ballot_id = %s;\n",
    "        \"\"\"\n",
    "        cursor.execute(query_duplicate_check, (registry_id, ballot_id))\n",
    "        duplicate_count = cursor.fetchone()[0]\n",
    "\n",
    "        if duplicate_count > 0:\n",
    "            raise Exception(\"Duplicate vote detected: A person can cast only one vote per ballot.\")\n",
    "\n",
    "        # Step 3: Cast the vote\n",
    "        query_cast_vote = \"\"\"\n",
    "        INSERT INTO CastedVote (vote_id, registry_id, ballot_id, choice, cast_time)\n",
    "        VALUES (UUID(), %s, %s, %s, %s);\n",
    "        \"\"\"\n",
    "        cursor.execute(query_cast_vote, (registry_id, ballot_id, vote_choice, vote_time))\n",
    "\n",
    "        # Commit the transaction if everything is successful\n",
    "        connection.commit()\n",
    "        print(\"Vote successfully cast!\")\n",
    "\n",
    "    except Exception as e:\n",
    "        # Rollback in case of error\n",
    "        connection.rollback()\n",
    "        print(f\"Failed to cast vote: {e}\")\n",
    "    finally:\n",
    "        if cursor:\n",
    "            cursor.close()\n",
    "\n",
    "print(\"7. 0000000000000001, B001, ABSTAIN, 2024-11-01 09:00:01\")\n",
    "cast_vote(db_connection)"
   ]
  },
  {
   "cell_type": "code",
   "execution_count": 23,
   "id": "edc975f9-7b79-46df-8c72-8a3efebb58ea",
   "metadata": {},
   "outputs": [
    {
     "name": "stdout",
     "output_type": "stream",
     "text": [
      "A.5 Staff Removing a Folk\n",
      "8. Remove '0000000000000001'\n"
     ]
    },
    {
     "name": "stdin",
     "output_type": "stream",
     "text": [
      "Enter the Person ID to remove:  0000000000000001\n"
     ]
    },
    {
     "name": "stdout",
     "output_type": "stream",
     "text": [
      "Person 0000000000000001 and all associated data removed successfully.\n"
     ]
    }
   ],
   "source": [
    "print(\"A.5 Staff Removing a Folk\")\n",
    "def remove_folk(connection):\n",
    "    cursor = connection.cursor()\n",
    "    person_id = input(\"Enter the Person ID to remove: \")\n",
    "    query = f\"DELETE FROM Folks WHERE person_id = '{person_id}';\"\n",
    "    try:\n",
    "        cursor.execute(query)\n",
    "        connection.commit()\n",
    "        print(f\"Person {person_id} and all associated data removed successfully.\")\n",
    "    except Error as e:\n",
    "        print(f\"Failed to remove person: {e}\")\n",
    "print(\"8. Remove '0000000000000001'\")\n",
    "remove_folk(db_connection)"
   ]
  },
  {
   "cell_type": "code",
   "execution_count": null,
   "id": "313988cb-c127-4789-88eb-4b985eb2d7d7",
   "metadata": {},
   "outputs": [],
   "source": [
    "print(\"Query 1\")\n",
    "# Define the query\n",
    "query = \"\"\"\n",
    "SELECT F.first_name, F.last_name, F.nickname, F.residence_city, FE.email_address \n",
    "FROM Folks F \n",
    "LEFT JOIN Folks_email FE ON F.person_id = FE.id;\n",
    "\"\"\"\n",
    "\n",
    "# Execute the query\n",
    "cur = db_connection.cursor()\n",
    "cur.execute(query)\n",
    "\n",
    "# Print header\n",
    "print(f\"{'First Name':15} {'Last Name':15} {'Nickname':15} {'Residence City':20} {'Email Address':30}\")\n",
    "print(\"=\" * 95)\n",
    "\n",
    "# Iterate over the result set and handle NULLs\n",
    "for row in cur:\n",
    "    first_name, last_name, nickname, residence_city, email_address = row\n",
    "    print(f\"{(first_name or ''):15} {(last_name or ''):15} {(nickname or ''):15} {(residence_city or ''):20} {(email_address or ''):30}\")\n",
    "\n",
    "# Close the cursor to clear any remaining results\n",
    "cur.close()\n"
   ]
  },
  {
   "cell_type": "code",
   "execution_count": null,
   "id": "6d594f80-4507-4828-9bf3-a9c2a4957a2f",
   "metadata": {},
   "outputs": [],
   "source": [
    "print(\"Query 2\")\n",
    "cur = db_connection.cursor()\n",
    "query = \"\"\"\n",
    "SELECT residence_city AS city, residence_state AS state, COUNT(*) AS num_residents\n",
    "FROM Folks\n",
    "GROUP BY residence_city, residence_state\n",
    "HAVING COUNT(*) > 0\n",
    "ORDER BY num_residents DESC;\n",
    "\"\"\"\n",
    "cur.execute(query)\n",
    "print(f\"{'City':20} {'State':15} {'Num Residents':10}\")\n",
    "print(\"=\" * 50)\n",
    "for row in cur:\n",
    "    print(f\"{row[0]:20} {row[1]:15} {row[2]:10}\")\n",
    "cur.close()\n"
   ]
  },
  {
   "cell_type": "code",
   "execution_count": null,
   "id": "86eafbe0-f641-487d-8153-61ffb9250f14",
   "metadata": {},
   "outputs": [],
   "source": [
    "print(\"Query 3\")\n",
    "cur = db_connection.cursor()\n",
    "query = \"\"\"\n",
    "SELECT VC.street_number, VC.street_name, VC.city, VC.state, VC.zipcode, \n",
    "       COUNT(VR.registry_id) AS num_registered\n",
    "FROM VotingCenter VC\n",
    "LEFT JOIN VotingRegistry VR \n",
    "    ON VC.street_number = VR.street_number \n",
    "   AND VC.street_name = VR.street_name \n",
    "   AND VC.city = VR.city \n",
    "   AND VC.state = VR.state \n",
    "   AND VC.zipcode = VR.zipcode\n",
    "GROUP BY VC.street_number, VC.street_name, VC.city, VC.state, VC.zipcode\n",
    "ORDER BY VC.zipcode;\n",
    "\"\"\"\n",
    "cur.execute(query)\n",
    "print(f\"{'Street Number':15} {'Street Name':20} {'City':15} {'State':10} {'Zipcode':10} {'Num Registered':10}\")\n",
    "print(\"=\" * 80)\n",
    "for row in cur:\n",
    "    print(f\"{row[0]:15} {row[1]:20} {row[2]:15} {row[3]:10} {row[4]:10} {row[5]:10}\")\n",
    "cur.close()\n"
   ]
  },
  {
   "cell_type": "code",
   "execution_count": null,
   "id": "af5407d8-cb9e-4c7d-9c93-99b2e9eb1185",
   "metadata": {},
   "outputs": [],
   "source": [
    "print(\"Query 4\")\n",
    "cur = db_connection.cursor()\n",
    "cur.execute(\"SET @center_acronym = 'VC01';\")\n",
    "cur.execute(\"SET @start_date = '2024-11-01';\")\n",
    "cur.execute(\"SET @end_date = '2024-11-04';\")\n",
    "query = \"\"\"\n",
    "SELECT DISTINCT F.person_id, F.first_name, F.last_name, F.nickname\n",
    "FROM Folks F\n",
    "JOIN VotingRegistry VR ON F.person_id = VR.person_id\n",
    "WHERE VR.acronym = @center_acronym\n",
    "  AND VR.vote_time BETWEEN @start_date AND @end_date;\n",
    "\"\"\"\n",
    "cur.execute(query)\n",
    "print(f\"{'Person ID':20} {'First Name':15} {'Last Name':15} {'Nickname':15}\")\n",
    "print(\"=\" * 65)\n",
    "for row in cur:\n",
    "    print(f\"{row[0]:20} {row[1]:15} {row[2]:15} {row[3]:15}\")\n",
    "cur.close()\n"
   ]
  },
  {
   "cell_type": "code",
   "execution_count": null,
   "id": "0ddc3d74-32c9-4f9f-a26d-96d471579033",
   "metadata": {},
   "outputs": [],
   "source": [
    "print(\"Query 5\")\n",
    "cur = db_connection.cursor()\n",
    "cur.execute(\"SET @month = '2024-11';\")\n",
    "cur.execute(\"SET @excluded_centers = '\\\"VC01\\\", \\\"VC03\\\"';\")\n",
    "cur.execute(\"SET @megapolis_x = 0;\")\n",
    "cur.execute(\"SET @megapolis_y = 0;\")\n",
    "query = \"\"\"\n",
    "SELECT COUNT(DISTINCT VR.registry_id) AS num_unique_registrations\n",
    "FROM VotingRegistry VR\n",
    "JOIN Places P ON VR.street_number = P.street_number \n",
    "   AND VR.street_name = P.street_name \n",
    "   AND VR.city = P.city \n",
    "   AND VR.state = P.state \n",
    "   AND VR.zipcode = P.zipcode\n",
    "WHERE P.coordinates IS NOT NULL\n",
    "  AND (\n",
    "      POW(SUBSTRING_INDEX(P.coordinates, ',', 1) - @megapolis_x, 2) + \n",
    "      POW(SUBSTRING_INDEX(P.coordinates, ',', -1) - @megapolis_y, 2)\n",
    "  ) <= POW(5, 2)\n",
    "  AND DATE_FORMAT(VR.vote_time, '%Y-%m') = @month\n",
    "  AND VR.acronym NOT IN ('VC02', 'VC03');\n",
    "\"\"\"\n",
    "cur.execute(query)\n",
    "result = cur.fetchone()\n",
    "print(f\"Number of unique registrations: {result[0]}\")\n",
    "cur.close()\n"
   ]
  },
  {
   "cell_type": "code",
   "execution_count": null,
   "id": "a3358c61-9950-41f8-b860-e8959ec10bde",
   "metadata": {},
   "outputs": [],
   "source": [
    "print(\"Query 6\")\n",
    "cur = db_connection.cursor()\n",
    "cur.execute(\"SET @city = 'City1';\")\n",
    "cur.execute(\"SET @start_date = '2024-11-01';\")\n",
    "cur.execute(\"SET @end_date = '2024-11-30';\")\n",
    "query = \"\"\"\n",
    "SELECT VR.acronym, COUNT(*) AS total_registrations\n",
    "FROM VotingRegistry VR\n",
    "INNER JOIN Places P USING (street_number, street_name, city, state, zipcode)\n",
    "WHERE P.city = @city\n",
    "  AND VR.vote_time BETWEEN @start_date AND @end_date\n",
    "GROUP BY VR.acronym\n",
    "HAVING COUNT(*) = (\n",
    "    SELECT MAX(total)\n",
    "    FROM (\n",
    "        SELECT COUNT(*) AS total\n",
    "        FROM VotingRegistry VR\n",
    "        JOIN Places P USING (street_number, street_name, city, state, zipcode)\n",
    "        WHERE P.city = @city\n",
    "          AND VR.vote_time BETWEEN @start_date AND @end_date\n",
    "        GROUP BY VR.acronym\n",
    "    ) subquery\n",
    ");\n",
    "\"\"\"\n",
    "cur.execute(query)\n",
    "print(f\"{'Voting Center':15} {'Total Registrations':20}\")\n",
    "print(\"=\" * 40)\n",
    "for row in cur:\n",
    "    print(f\"{row[0]:15} {row[1]:20}\")\n",
    "cur.close()\n"
   ]
  },
  {
   "cell_type": "code",
   "execution_count": null,
   "id": "2974194e-dc60-46ae-8aa5-50da9472c440",
   "metadata": {},
   "outputs": [],
   "source": [
    "print(\"Query 7\")\n",
    "cur = db_connection.cursor()\n",
    "cur.execute(\"SET @state = 'State1';\")\n",
    "query = \"\"\"\n",
    "SELECT DISTINCT F.person_id, F.first_name, F.last_name\n",
    "FROM Folks F\n",
    "WHERE NOT EXISTS (\n",
    "    SELECT VC.acronym\n",
    "    FROM VotingCenter VC\n",
    "    WHERE VC.state = @state\n",
    "      AND NOT EXISTS (\n",
    "          SELECT 1\n",
    "          FROM VotingRegistry VR\n",
    "          WHERE VR.person_id = F.person_id\n",
    "            AND VR.acronym = VC.acronym\n",
    "      )\n",
    ");\n",
    "\"\"\"\n",
    "cur.execute(query)\n",
    "print(f\"{'Person ID':20} {'First Name':15} {'Last Name':15}\")\n",
    "print(\"=\" * 50)\n",
    "for row in cur:\n",
    "    print(f\"{row[0]:20} {row[1]:15} {row[2]:15}\")\n",
    "cur.close()\n",
    "\n"
   ]
  },
  {
   "cell_type": "code",
   "execution_count": null,
   "id": "fadfceb2-a68b-42ae-9f26-133294a6496f",
   "metadata": {},
   "outputs": [],
   "source": [
    "print(\"Query 8\")\n",
    "cur = db_connection.cursor()\n",
    "query = \"\"\"\n",
    "SELECT DISTINCT F.person_id, F.first_name, F.last_name, VR.acronym AS registered_center\n",
    "FROM Folks F\n",
    "JOIN VotingRegistry VR USING (person_id)\n",
    "JOIN Places PR ON PR.street_number = F.residence_street_number \n",
    "              AND PR.street_name = F.residence_street_name \n",
    "              AND PR.city = F.residence_city \n",
    "              AND PR.state = F.residence_state \n",
    "              AND PR.zipcode = F.residence_zipcode\n",
    "JOIN Places PV ON PV.street_number = VR.street_number \n",
    "              AND PV.street_name = VR.street_name \n",
    "              AND PV.city = VR.city \n",
    "              AND PV.state = VR.state \n",
    "              AND PV.zipcode = VR.zipcode\n",
    "WHERE (\n",
    "        POW(SUBSTRING_INDEX(PV.coordinates, ',', 1) - SUBSTRING_INDEX(PR.coordinates, ',', 1), 2) +\n",
    "        POW(SUBSTRING_INDEX(PV.coordinates, ',', -1) - SUBSTRING_INDEX(PR.coordinates, ',', -1), 2)\n",
    "      ) > (\n",
    "        SELECT MIN(\n",
    "            POW(SUBSTRING_INDEX(PC.coordinates, ',', 1) - SUBSTRING_INDEX(PR.coordinates, ',', 1), 2) +\n",
    "            POW(SUBSTRING_INDEX(PC.coordinates, ',', -1) - SUBSTRING_INDEX(PR.coordinates, ',', -1), 2)\n",
    "        )\n",
    "        FROM VotingCenter VC\n",
    "        JOIN Places PC ON PC.street_number = VC.street_number \n",
    "                       AND PC.street_name = VC.street_name \n",
    "                       AND PC.city = VC.city \n",
    "                       AND PC.state = VC.state \n",
    "                       AND PC.zipcode = VC.zipcode\n",
    "    )\n",
    "ORDER BY F.person_id, VR.acronym;\n",
    "\"\"\"\n",
    "cur.execute(query)\n",
    "print(f\"{'Person ID':20} {'First Name':15} {'Last Name':15} {'Registered Center':20}\")\n",
    "print(\"=\" * 70)\n",
    "for row in cur:\n",
    "    print(f\"{row[0]:20} {row[1]:15} {row[2]:15} {row[3]:20}\")\n",
    "cur.close()\n"
   ]
  },
  {
   "cell_type": "code",
   "execution_count": null,
   "id": "46aaa130-819f-4408-83fe-12bc843b5533",
   "metadata": {},
   "outputs": [],
   "source": [
    "print(\"Query 9\")\n",
    "cur = db_connection.cursor()\n",
    "cur.execute(\"SET @folk_id = '0000000000000001';\") #Replace with the desired folk ID\n",
    "cur.execute(\"SET @check_date = '2024-11-01';\") #Replace with the desired date\n",
    "query = \"\"\"\n",
    "SELECT VC.acronym AS closest_center\n",
    "FROM VotingCenter VC\n",
    "JOIN Places PC ON PC.street_number = VC.street_number \n",
    "               AND PC.street_name = VC.street_name \n",
    "               AND PC.city = VC.city \n",
    "               AND PC.state = VC.state \n",
    "               AND PC.zipcode = VC.zipcode\n",
    "JOIN Folks F ON F.person_id = @folk_id\n",
    "JOIN Places PR ON PR.street_number = F.residence_street_number \n",
    "               AND PR.street_name = F.residence_street_name \n",
    "               AND PR.city = F.residence_city \n",
    "               AND PR.state = F.residence_state \n",
    "               AND PR.zipcode = F.residence_zipcode\n",
    "WHERE EXISTS (\n",
    "    SELECT 1\n",
    "    FROM Center_times CT\n",
    "    WHERE CT.acronym = VC.acronym\n",
    "      AND CT.start_time <= @check_date\n",
    "      AND CT.end_time >= @check_date\n",
    ")\n",
    "ORDER BY (\n",
    "    POW(SUBSTRING_INDEX(PC.coordinates, ',', 1) - SUBSTRING_INDEX(PR.coordinates, ',', 1), 2) +\n",
    "    POW(SUBSTRING_INDEX(PC.coordinates, ',', -1) - SUBSTRING_INDEX(PR.coordinates, ',', -1), 2)\n",
    "), VC.acronym\n",
    "LIMIT 1;\n",
    "\"\"\"\n",
    "cur.execute(query)\n",
    "result = cur.fetchone()\n",
    "if result:\n",
    "    print(f\"Closest Voting Center: {result[0]}\")\n",
    "else:\n",
    "    print(\"No valid voting center found.\")\n",
    "cur.close()\n"
   ]
  },
  {
   "cell_type": "code",
   "execution_count": null,
   "id": "ce25c332-0a18-4ae5-8762-a3700d836b46",
   "metadata": {},
   "outputs": [],
   "source": [
    "print(\"Query 10\")\n",
    "cur = db_connection.cursor()\n",
    "cur.execute(\"SET @ballot_id = 'B001';\")\n",
    "query = \"\"\"\n",
    "SELECT VC.acronym AS voting_center,\n",
    "       SUM(CASE WHEN CV.choice = 'YES' THEN 1 ELSE 0 END) AS votes_yes,\n",
    "       SUM(CASE WHEN CV.choice = 'NO' THEN 1 ELSE 0 END) AS votes_no,\n",
    "       SUM(CASE WHEN CV.choice = 'ABSTAIN' THEN 1 ELSE 0 END) AS votes_abstain\n",
    "FROM CastedVote CV\n",
    "JOIN VotingCenter VC USING (acronym)\n",
    "WHERE CV.ballot_id = @ballot_id\n",
    "GROUP BY VC.acronym\n",
    "ORDER BY VC.acronym;\n",
    "\"\"\"\n",
    "cur.execute(query)\n",
    "print(f\"{'Voting Center':15} {'Votes YES':10} {'Votes NO':10} {'Votes ABSTAIN':15}\")\n",
    "print(\"=\" * 50)\n",
    "for row in cur:\n",
    "    print(f\"{row[0]:15} {row[1]:10} {row[2]:10} {row[3]:15}\")\n",
    "cur.close()\n"
   ]
  },
  {
   "cell_type": "code",
   "execution_count": null,
   "id": "d101f3bc-ea3b-46b4-b02a-7a5806436f1c",
   "metadata": {},
   "outputs": [],
   "source": [
    "db_connection.close()"
   ]
  },
  {
   "cell_type": "code",
   "execution_count": null,
   "id": "744040d8-f291-4d7d-83a8-97a182dd747f",
   "metadata": {},
   "outputs": [],
   "source": []
  }
 ],
 "metadata": {
  "kernelspec": {
   "display_name": "Python 3 (ipykernel)",
   "language": "python",
   "name": "python3"
  },
  "language_info": {
   "codemirror_mode": {
    "name": "ipython",
    "version": 3
   },
   "file_extension": ".py",
   "mimetype": "text/x-python",
   "name": "python",
   "nbconvert_exporter": "python",
   "pygments_lexer": "ipython3",
   "version": "3.12.4"
  }
 },
 "nbformat": 4,
 "nbformat_minor": 5
}
